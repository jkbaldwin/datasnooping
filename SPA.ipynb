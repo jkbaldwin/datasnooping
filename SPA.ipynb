{
 "cells": [
  {
   "cell_type": "markdown",
   "metadata": {},
   "source": [
    "# Tests of Superior Predictive Ability on Passive Investment Strategies\n",
    "### 11/23/2020\n",
    "### Jack Baldwin"
   ]
  },
  {
   "cell_type": "code",
   "execution_count": 1,
   "metadata": {},
   "outputs": [],
   "source": [
    "# import packages and settings\n",
    "\n",
    "import pandas as pd\n",
    "import statsmodels.api as sm\n",
    "import matplotlib.pyplot as plt\n",
    "import datetime as dt\n",
    "\n",
    "import numpy as np\n",
    "np.random.seed(23456)\n",
    "# Common seed used throughout\n",
    "seed = np.random.randint(0, 2**31 - 1)\n",
    "\n",
    "import warnings\n",
    "warnings.simplefilter('ignore')\n",
    "\n",
    "import seaborn\n",
    "seaborn.set_style('darkgrid')\n",
    "plt.rc(\"figure\", figsize=(16, 6))\n",
    "plt.rc(\"savefig\", dpi=90)\n",
    "plt.rc(\"font\",family=\"sans-serif\")\n",
    "plt.rc(\"font\",size=14)\n",
    "\n",
    "from arch.bootstrap import SPA"
   ]
  },
  {
   "cell_type": "code",
   "execution_count": 4,
   "metadata": {},
   "outputs": [],
   "source": [
    "# import data\n",
    "longdata = pd.read_csv(\"/Users/Jack/Dropbox/Jack/School/Fall 2020/Independent Research & Thesis/code and data files/Repository/datasnooping/ModelReturnsLong.csv\")\n",
    "shortdata = pd.read_csv(\"/Users/Jack/Dropbox/Jack/School/Fall 2020/Independent Research & Thesis/code and data files/Repository/datasnooping/ModelReturnsShort.csv\")"
   ]
  },
  {
   "cell_type": "code",
   "execution_count": 5,
   "metadata": {},
   "outputs": [
    {
     "data": {
      "text/plain": [
       "<bound method NDFrame.head of          Long15    Long30   LongDCA\n",
       "0      0.009293  0.009293  0.008303\n",
       "1     -0.013722 -0.013722 -0.014744\n",
       "2     -0.003598 -0.003598 -0.004595\n",
       "3      0.002902  0.002902  0.001917\n",
       "4     -0.007021 -0.007021 -0.008018\n",
       "...         ...       ...       ...\n",
       "15051  0.016330  0.016330  0.016327\n",
       "15052 -0.004727 -0.004727 -0.004730\n",
       "15053  0.002196  0.002196  0.002193\n",
       "15054 -0.005219 -0.005219 -0.005222\n",
       "15055 -0.007059 -0.007547 -0.003449\n",
       "\n",
       "[15056 rows x 3 columns]>"
      ]
     },
     "execution_count": 5,
     "metadata": {},
     "output_type": "execute_result"
    }
   ],
   "source": [
    "# take negative returns\n",
    "shortdata= -1*shortdata\n",
    "longdata = -1*longdata\n",
    "longdata.head"
   ]
  },
  {
   "cell_type": "markdown",
   "metadata": {},
   "source": [
    "#### SPA Results for Dip Strategies\n",
    "#### Jan 2000 - Oct 2020"
   ]
  },
  {
   "cell_type": "code",
   "execution_count": 6,
   "metadata": {},
   "outputs": [
    {
     "data": {
      "text/plain": [
       "lower         0.515\n",
       "consistent    0.515\n",
       "upper         0.515\n",
       "dtype: float64"
      ]
     },
     "execution_count": 6,
     "metadata": {},
     "output_type": "execute_result"
    }
   ],
   "source": [
    "# Run SPA test (benchmark first and then models)\n",
    "\n",
    "shortspa = SPA(shortdata['ShortDCA'], shortdata[['Short15', 'Short30']], reps = 1000)\n",
    "shortspa.seed(seed)\n",
    "shortspa.compute()\n",
    "shortspa.pvalues"
   ]
  },
  {
   "cell_type": "markdown",
   "metadata": {},
   "source": [
    "#### SPA Results for Dip and Momentum Strategies\n",
    "#### Jan 2000 - Oct 2020"
   ]
  },
  {
   "cell_type": "code",
   "execution_count": 7,
   "metadata": {},
   "outputs": [
    {
     "data": {
      "text/plain": [
       "lower         0.612\n",
       "consistent    0.612\n",
       "upper         0.612\n",
       "dtype: float64"
      ]
     },
     "execution_count": 7,
     "metadata": {},
     "output_type": "execute_result"
    }
   ],
   "source": [
    "shortspa = SPA(shortdata['ShortDCA'], shortdata[['Short15', 'Short30', 'OnePrcnt', 'GrtrThnHgh']], reps = 1000)\n",
    "shortspa.seed(seed)\n",
    "shortspa.compute()\n",
    "shortspa.pvalues"
   ]
  },
  {
   "cell_type": "markdown",
   "metadata": {},
   "source": [
    "#### SPA Results for Dip Strategies\n",
    "#### Jan 1961 - Oct 2020"
   ]
  },
  {
   "cell_type": "code",
   "execution_count": 31,
   "metadata": {},
   "outputs": [
    {
     "data": {
      "text/plain": [
       "lower         0.42\n",
       "consistent    0.42\n",
       "upper         0.42\n",
       "dtype: float64"
      ]
     },
     "execution_count": 31,
     "metadata": {},
     "output_type": "execute_result"
    }
   ],
   "source": [
    "longspa = SPA(longdata['LongDCA'], longdata[['Long15', 'Long30']], reps = 1000, block_size = 40)\n",
    "longspa.seed(seed)\n",
    "longspa.compute()\n",
    "longspa.pvalues"
   ]
  }
 ],
 "metadata": {
  "kernelspec": {
   "display_name": "Python 3",
   "language": "python",
   "name": "python3"
  },
  "language_info": {
   "codemirror_mode": {
    "name": "ipython",
    "version": 3
   },
   "file_extension": ".py",
   "mimetype": "text/x-python",
   "name": "python",
   "nbconvert_exporter": "python",
   "pygments_lexer": "ipython3",
   "version": "3.7.4"
  }
 },
 "nbformat": 4,
 "nbformat_minor": 4
}
